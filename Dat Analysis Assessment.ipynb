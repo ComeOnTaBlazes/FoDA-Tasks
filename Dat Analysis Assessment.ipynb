{
 "cells": [
  {
   "cell_type": "markdown",
   "metadata": {},
   "source": [
    "## Assessment 1 - Counts"
   ]
  },
  {
   "cell_type": "code",
   "execution_count": 1,
   "metadata": {},
   "outputs": [],
   "source": [
    "#Program that uses a function that counts number of occurances in a list and adds to dictionary\n",
    "#input['A', 'A', 'B', 'C', 'A']\n",
    "#result{'A': 3, 'B': 1, 'C': 1} "
   ]
  },
  {
   "cell_type": "code",
   "execution_count": 2,
   "metadata": {},
   "outputs": [],
   "source": [
    "input = ['A', 'A', 'B', 'C', 'A']"
   ]
  },
  {
   "cell_type": "code",
   "execution_count": 3,
   "metadata": {
    "scrolled": true
   },
   "outputs": [
    {
     "data": {
      "text/plain": [
       "['A', 'A', 'B', 'C', 'A']"
      ]
     },
     "execution_count": 3,
     "metadata": {},
     "output_type": "execute_result"
    }
   ],
   "source": [
    "input"
   ]
  },
  {
   "cell_type": "markdown",
   "metadata": {},
   "source": [
    "Test .count()"
   ]
  },
  {
   "cell_type": "code",
   "execution_count": 4,
   "metadata": {},
   "outputs": [
    {
     "data": {
      "text/plain": [
       "3"
      ]
     },
     "execution_count": 4,
     "metadata": {},
     "output_type": "execute_result"
    }
   ],
   "source": [
    "input.count('A')"
   ]
  },
  {
   "cell_type": "code",
   "execution_count": 5,
   "metadata": {},
   "outputs": [
    {
     "data": {
      "text/plain": [
       "1"
      ]
     },
     "execution_count": 5,
     "metadata": {},
     "output_type": "execute_result"
    }
   ],
   "source": [
    "input.count('B')"
   ]
  },
  {
   "cell_type": "markdown",
   "metadata": {},
   "source": [
    "Initially I toyed with the idea of for loops and counters, but I realised to just combine 2 lists of my outputs is much simpler. Counting the characters of the \"keys\" list in the original input. \n",
    "Trying to replicate the desired result without furmula."
   ]
  },
  {
   "cell_type": "code",
   "execution_count": 6,
   "metadata": {},
   "outputs": [],
   "source": [
    "keys1 = []\n",
    "countval1 = []"
   ]
  },
  {
   "cell_type": "code",
   "execution_count": 7,
   "metadata": {},
   "outputs": [
    {
     "data": {
      "text/plain": [
       "['A', 'B', 'C']"
      ]
     },
     "execution_count": 7,
     "metadata": {},
     "output_type": "execute_result"
    }
   ],
   "source": [
    "for val in input:\n",
    "    if val not in keys1:\n",
    "         keys1.append(val)\n",
    "keys1"
   ]
  },
  {
   "cell_type": "code",
   "execution_count": 8,
   "metadata": {},
   "outputs": [
    {
     "data": {
      "text/plain": [
       "[3, 1, 1]"
      ]
     },
     "execution_count": 8,
     "metadata": {},
     "output_type": "execute_result"
    }
   ],
   "source": [
    "for n in keys1:\n",
    "    ans = input.count(n)\n",
    "    countval1.append(ans)\n",
    "countval1"
   ]
  },
  {
   "cell_type": "markdown",
   "metadata": {},
   "source": [
    "I got the below zip method from the below page: method 3.\n",
    "\n",
    "https://www.geeksforgeeks.org/python-convert-two-lists-into-a-dictionary/"
   ]
  },
  {
   "cell_type": "code",
   "execution_count": 9,
   "metadata": {},
   "outputs": [],
   "source": [
    "dictout1 = dict(zip(keys1, countval1))"
   ]
  },
  {
   "cell_type": "code",
   "execution_count": 10,
   "metadata": {},
   "outputs": [
    {
     "data": {
      "text/plain": [
       "{'A': 3, 'B': 1, 'C': 1}"
      ]
     },
     "execution_count": 10,
     "metadata": {},
     "output_type": "execute_result"
    }
   ],
   "source": [
    "dictout1"
   ]
  },
  {
   "cell_type": "markdown",
   "metadata": {},
   "source": [
    "Ok, the desired output has been achieved, this should be pretty simple to put into a function now"
   ]
  },
  {
   "cell_type": "code",
   "execution_count": 11,
   "metadata": {},
   "outputs": [],
   "source": [
    "def counts(x):\n",
    "    keys = []\n",
    "    countval = []\n",
    "    for val in x:\n",
    "        if val not in keys:\n",
    "            keys.append(val)\n",
    "    for n in keys:\n",
    "        ans = x.count(n)\n",
    "        countval.append(ans)\n",
    "    dictout = dict(zip(keys, countval))\n",
    "    return dictout"
   ]
  },
  {
   "cell_type": "code",
   "execution_count": 12,
   "metadata": {},
   "outputs": [
    {
     "data": {
      "text/plain": [
       "{'A': 3, 'B': 1, 'C': 1}"
      ]
     },
     "execution_count": 12,
     "metadata": {},
     "output_type": "execute_result"
    }
   ],
   "source": [
    "counts(input)"
   ]
  },
  {
   "cell_type": "code",
   "execution_count": 13,
   "metadata": {},
   "outputs": [
    {
     "data": {
      "text/plain": [
       "{'A': 3, 'B': 1, 'C': 1}"
      ]
     },
     "execution_count": 13,
     "metadata": {},
     "output_type": "execute_result"
    }
   ],
   "source": [
    "counts(['A', 'A', 'B', 'C', 'A'])    "
   ]
  },
  {
   "cell_type": "markdown",
   "metadata": {},
   "source": [
    "<b>"
   ]
  },
  {
   "cell_type": "markdown",
   "metadata": {},
   "source": [
    "## Assessment 2 - dicerolls"
   ]
  },
  {
   "cell_type": "markdown",
   "metadata": {},
   "source": [
    "Python function that rolls $k$ number of dice, $n$ times.\n",
    "Results of the $n$ rolls should be kept in a dictionary with keys,vals == the frequency of each possible outcome i.e 1-12.\n",
    "\n",
    "Initially I was messsing aroun with "
   ]
  },
  {
   "cell_type": "code",
   "execution_count": 14,
   "metadata": {},
   "outputs": [],
   "source": [
    "import numpy as np\n",
    "import pandas as pd"
   ]
  },
  {
   "cell_type": "code",
   "execution_count": 15,
   "metadata": {},
   "outputs": [],
   "source": [
    "rng = np.random.default_rng()"
   ]
  },
  {
   "cell_type": "markdown",
   "metadata": {},
   "source": [
    "Simulate 1 dice roll 100 times."
   ]
  },
  {
   "cell_type": "code",
   "execution_count": 16,
   "metadata": {},
   "outputs": [],
   "source": [
    "diceroll = rng.integers(1,7, size =[100,1])"
   ]
  },
  {
   "cell_type": "markdown",
   "metadata": {},
   "source": [
    "Check the length of the array, should ==100"
   ]
  },
  {
   "cell_type": "code",
   "execution_count": 17,
   "metadata": {},
   "outputs": [
    {
     "data": {
      "text/plain": [
       "100"
      ]
     },
     "execution_count": 17,
     "metadata": {},
     "output_type": "execute_result"
    }
   ],
   "source": [
    "len(diceroll)"
   ]
  },
  {
   "cell_type": "markdown",
   "metadata": {},
   "source": [
    "Simulate 2 dice rolls"
   ]
  },
  {
   "cell_type": "code",
   "execution_count": 18,
   "metadata": {},
   "outputs": [],
   "source": [
    "diceroll = rng.integers(1,7, size =[1000,2])"
   ]
  },
  {
   "cell_type": "markdown",
   "metadata": {},
   "source": [
    "Check the returned array is the right shape"
   ]
  },
  {
   "cell_type": "code",
   "execution_count": 19,
   "metadata": {},
   "outputs": [
    {
     "data": {
      "text/plain": [
       "(1000, 2)"
      ]
     },
     "execution_count": 19,
     "metadata": {},
     "output_type": "execute_result"
    }
   ],
   "source": [
    "diceroll.shape"
   ]
  },
  {
   "cell_type": "markdown",
   "metadata": {},
   "source": [
    "Create a pandas dataframe from the array, labelling the columns"
   ]
  },
  {
   "cell_type": "code",
   "execution_count": 20,
   "metadata": {},
   "outputs": [],
   "source": [
    "df_diceroll = pd.DataFrame(diceroll, columns=[\"roll1\", \"roll2\"])"
   ]
  },
  {
   "cell_type": "markdown",
   "metadata": {},
   "source": [
    "Sum the columns to a new column\n",
    "\n",
    "Summing columns:\n",
    "https://stackoverflow.com/questions/34023918/make-new-column-in-panda-dataframe-by-adding-values-from-other-columns/34023971"
   ]
  },
  {
   "cell_type": "code",
   "execution_count": 21,
   "metadata": {},
   "outputs": [],
   "source": [
    "df_diceroll['sum'] = df_diceroll.sum(axis=1)"
   ]
  },
  {
   "cell_type": "markdown",
   "metadata": {},
   "source": [
    "Create a dict of value counts in a dictionary\n",
    "\n",
    "https://stackoverflow.com/questions/36004976/count-frequency-of-values-in-pandas-dataframe-column"
   ]
  },
  {
   "cell_type": "code",
   "execution_count": 22,
   "metadata": {},
   "outputs": [],
   "source": [
    "resultcount = df_diceroll['sum'].value_counts().to_dict()"
   ]
  },
  {
   "cell_type": "code",
   "execution_count": 23,
   "metadata": {},
   "outputs": [
    {
     "data": {
      "text/plain": [
       "{7: 164,\n",
       " 6: 139,\n",
       " 8: 136,\n",
       " 9: 119,\n",
       " 10: 100,\n",
       " 5: 98,\n",
       " 4: 92,\n",
       " 3: 58,\n",
       " 11: 42,\n",
       " 2: 28,\n",
       " 12: 24}"
      ]
     },
     "execution_count": 23,
     "metadata": {},
     "output_type": "execute_result"
    }
   ],
   "source": [
    "resultcount"
   ]
  },
  {
   "cell_type": "markdown",
   "metadata": {},
   "source": [
    "Create the function with the arguments $k$ and $n$ and test"
   ]
  },
  {
   "cell_type": "code",
   "execution_count": 24,
   "metadata": {},
   "outputs": [],
   "source": [
    "def diceroll(k, n):\n",
    "    dicerl = rng.integers(1,7, size =[n,k])\n",
    "    df = pd.DataFrame(dicerl, columns=[\"roll1\", \"roll2\"])\n",
    "    df['sum'] = df.sum(axis=1)\n",
    "    rescnt = df['sum'].value_counts().to_dict()\n",
    "    return rescnt"
   ]
  },
  {
   "cell_type": "code",
   "execution_count": 25,
   "metadata": {
    "scrolled": false
   },
   "outputs": [
    {
     "data": {
      "text/plain": [
       "{7: 154,\n",
       " 8: 142,\n",
       " 6: 142,\n",
       " 9: 120,\n",
       " 5: 113,\n",
       " 10: 80,\n",
       " 4: 78,\n",
       " 11: 68,\n",
       " 3: 49,\n",
       " 2: 28,\n",
       " 12: 26}"
      ]
     },
     "execution_count": 25,
     "metadata": {},
     "output_type": "execute_result"
    }
   ],
   "source": [
    "diceroll(2,1000)"
   ]
  },
  {
   "cell_type": "markdown",
   "metadata": {},
   "source": [
    "<b>"
   ]
  },
  {
   "cell_type": "markdown",
   "metadata": {},
   "source": [
    "### Task 3\n",
    "\n",
    "Simulating a coin-flip with numpy.random.binomial to 100  and then 1,000 times and plot the results, showing the bell curve."
   ]
  },
  {
   "cell_type": "code",
   "execution_count": 26,
   "metadata": {},
   "outputs": [],
   "source": [
    "import matplotlib.pyplot as plt\n",
    "import seaborn as sns"
   ]
  },
  {
   "cell_type": "code",
   "execution_count": 27,
   "metadata": {
    "scrolled": true
   },
   "outputs": [],
   "source": [
    "coinres = rng.binomial(100,.50, size = 1000)\n"
   ]
  },
  {
   "cell_type": "code",
   "execution_count": 28,
   "metadata": {},
   "outputs": [],
   "source": [
    "coinres_df = pd.DataFrame(coinres, columns = ['numhead'])"
   ]
  },
  {
   "cell_type": "code",
   "execution_count": 29,
   "metadata": {},
   "outputs": [
    {
     "data": {
      "text/html": [
       "<div>\n",
       "<style scoped>\n",
       "    .dataframe tbody tr th:only-of-type {\n",
       "        vertical-align: middle;\n",
       "    }\n",
       "\n",
       "    .dataframe tbody tr th {\n",
       "        vertical-align: top;\n",
       "    }\n",
       "\n",
       "    .dataframe thead th {\n",
       "        text-align: right;\n",
       "    }\n",
       "</style>\n",
       "<table border=\"1\" class=\"dataframe\">\n",
       "  <thead>\n",
       "    <tr style=\"text-align: right;\">\n",
       "      <th></th>\n",
       "      <th>numhead</th>\n",
       "    </tr>\n",
       "  </thead>\n",
       "  <tbody>\n",
       "    <tr>\n",
       "      <td>0</td>\n",
       "      <td>52</td>\n",
       "    </tr>\n",
       "    <tr>\n",
       "      <td>1</td>\n",
       "      <td>45</td>\n",
       "    </tr>\n",
       "    <tr>\n",
       "      <td>2</td>\n",
       "      <td>47</td>\n",
       "    </tr>\n",
       "    <tr>\n",
       "      <td>3</td>\n",
       "      <td>50</td>\n",
       "    </tr>\n",
       "    <tr>\n",
       "      <td>4</td>\n",
       "      <td>53</td>\n",
       "    </tr>\n",
       "    <tr>\n",
       "      <td>...</td>\n",
       "      <td>...</td>\n",
       "    </tr>\n",
       "    <tr>\n",
       "      <td>995</td>\n",
       "      <td>56</td>\n",
       "    </tr>\n",
       "    <tr>\n",
       "      <td>996</td>\n",
       "      <td>53</td>\n",
       "    </tr>\n",
       "    <tr>\n",
       "      <td>997</td>\n",
       "      <td>52</td>\n",
       "    </tr>\n",
       "    <tr>\n",
       "      <td>998</td>\n",
       "      <td>48</td>\n",
       "    </tr>\n",
       "    <tr>\n",
       "      <td>999</td>\n",
       "      <td>51</td>\n",
       "    </tr>\n",
       "  </tbody>\n",
       "</table>\n",
       "<p>1000 rows × 1 columns</p>\n",
       "</div>"
      ],
      "text/plain": [
       "     numhead\n",
       "0         52\n",
       "1         45\n",
       "2         47\n",
       "3         50\n",
       "4         53\n",
       "..       ...\n",
       "995       56\n",
       "996       53\n",
       "997       52\n",
       "998       48\n",
       "999       51\n",
       "\n",
       "[1000 rows x 1 columns]"
      ]
     },
     "execution_count": 29,
     "metadata": {},
     "output_type": "execute_result"
    }
   ],
   "source": [
    "coinres_df"
   ]
  },
  {
   "cell_type": "code",
   "execution_count": 30,
   "metadata": {},
   "outputs": [],
   "source": [
    "num, occs = np.unique(coinres, return_counts=  True)"
   ]
  },
  {
   "cell_type": "code",
   "execution_count": 31,
   "metadata": {},
   "outputs": [
    {
     "data": {
      "text/plain": [
       "array([ 1,  4,  1,  5,  7, 21, 18, 27, 38, 50, 61, 79, 71, 84, 86, 78, 79,\n",
       "       63, 65, 47, 34, 22, 25, 10,  9,  4,  3,  3,  3,  1,  1],\n",
       "      dtype=int64)"
      ]
     },
     "execution_count": 31,
     "metadata": {},
     "output_type": "execute_result"
    }
   ],
   "source": [
    "occs"
   ]
  },
  {
   "cell_type": "markdown",
   "metadata": {},
   "source": [
    "https://numpy.org/doc/stable/reference/generated/numpy.unique.html"
   ]
  },
  {
   "cell_type": "code",
   "execution_count": 32,
   "metadata": {},
   "outputs": [
    {
     "name": "stdout",
     "output_type": "stream",
     "text": [
      "[33 36 38 39 40 41 42 43 44 45 46 47 48 49 50 51 52 53 54 55 56 57 58 59\n",
      " 60 61 62 63 64 65 67]\n",
      "[ 1  4  1  5  7 21 18 27 38 50 61 79 71 84 86 78 79 63 65 47 34 22 25 10\n",
      "  9  4  3  3  3  1  1]\n"
     ]
    }
   ],
   "source": [
    "num, occs = np.unique(coinres, return_counts=  True)\n",
    "print(num)\n",
    "print(occs)"
   ]
  },
  {
   "cell_type": "code",
   "execution_count": 57,
   "metadata": {},
   "outputs": [
    {
     "data": {
      "image/png": "[encoded data removed]",
      "text/plain": [
       "<Figure size 360x360 with 1 Axes>"
      ]
     },
     "metadata": {
      "needs_background": "light"
     },
     "output_type": "display_data"
    }
   ],
   "source": [
    "ax = sns.displot(coinres, kde = True,bins = range(33, 66), color = 'b')\n",
    "plt.title('Number of Heads  per 100 Coin Tosses, n=1000');"
   ]
  },
  {
   "cell_type": "markdown",
   "metadata": {},
   "source": [
    "<b>"
   ]
  },
  {
   "cell_type": "markdown",
   "metadata": {},
   "source": [
    "### Task 4"
   ]
  },
  {
   "cell_type": "markdown",
   "metadata": {},
   "source": [
    "### Simpsons Paradox\n",
    "\n",
    "Simpsons Paradox is a phennomenon in probability & statisctics whereby a trend observed in several different groups of data will no longer appear/be reversed in a combined set of the data[1]. "
   ]
  },
  {
   "cell_type": "markdown",
   "metadata": {},
   "source": [
    "Personally I found the below example as the most straight forward of the examples provided when first encountering the paradox.\n",
    "\n",
    "Say we have 2 professional baseball batters' batting statistics taken across 2 years, one, Batter A, can have a worse batting average( no of bats/ no. of at bats) across the two season in the data than Batter B, but when the two years are aggregated, Batter A will have the more favourable battgn average."
   ]
  },
  {
   "cell_type": "markdown",
   "metadata": {},
   "source": [
    "\n",
    "\n",
    "| Batter | 1995 | 1996 | Combined\n",
    "| --- | -: | -: | -:|\n",
    "| Derek Jeter | 12/48\t|183/582\t|\t195/630|\n",
    "| Batting Avg | .250\t|\t.314|\t\t<b>.310<b>|\n",
    "|\n",
    "|David Justice\t|104/411\t|\t45/140\t|\t149/551\t|\n",
    "| Batting Avg |\t<b>.253<b>|\t\t<b>.321<b>|\t\t.270|"
   ]
  },
  {
   "cell_type": "markdown",
   "metadata": {},
   "source": [
    "You can see from the above table that in 1995 & 1996 David Justice's batting average is better that Derek Jetter's, however once combined, we can see that Jeter's batting record is better across both years. This happens due to the large dfifference between the number of at bats between the years, as we can see Jeter was only at bat 48 times in 1995 compared to 582 in 1996, and the opposite for David Justice."
   ]
  },
  {
   "cell_type": "markdown",
   "metadata": {},
   "source": [
    "<b>"
   ]
  },
  {
   "cell_type": "markdown",
   "metadata": {},
   "source": [
    "Another example of this paradox, which will be the bulk of the remainder of this document, is where the phenomenon presetns itself in data which, when viewed in groups will appear to present one picture, however when the data are grouped together, the observed picture is reversed, as happened in the UC Berkeley Gender Bias study, where the data overall presented that there was a gender bias occurring against female applicants, however when the researchers looked at the data across each department the results were reversed and a bias in farour of women was observed. [2]"
   ]
  },
  {
   "cell_type": "markdown",
   "metadata": {},
   "source": [
    "<b>"
   ]
  },
  {
   "cell_type": "markdown",
   "metadata": {},
   "source": [
    "In the below image (fig1) you can see the trend discussed above, both sets of data(lines) are sloping positively and one would assume, if looking at the blue line individually, that increasing values of $x$ will provide increasing values of $y$, however, upon looking at the whole dataset, we can see that increasing values of $x$ provide decrasing values of $y$ accross both groups."
   ]
  },
  {
   "cell_type": "markdown",
   "metadata": {},
   "source": [
    "![title](https://upload.wikimedia.org/wikipedia/commons/thumb/4/47/Simpson%27s_paradox_continuous.svg/390px-Simpson%27s_paradox_continuous.svg.png)"
   ]
  },
  {
   "cell_type": "markdown",
   "metadata": {},
   "source": [
    "I will create a bit more of a fleshed out version of the above dataset, as requested per the task statement we will create 4 lines to display the paradox. In creating the data, I worked on the assumption that this is a fictional dataset used to display how Simpson's Paradox can occur and how it can be a pitfall for analysits of the dataset. "
   ]
  },
  {
   "cell_type": "markdown",
   "metadata": {},
   "source": [
    "Firstly let's import our modules:"
   ]
  },
  {
   "cell_type": "code",
   "execution_count": 35,
   "metadata": {},
   "outputs": [],
   "source": [
    "import numpy as np\n",
    "import pandas as pd\n",
    "import matplotlib.pyplot as plt\n",
    "import seaborn as sns\n",
    "from numpy.polynomial.polynomial import polyfit"
   ]
  },
  {
   "cell_type": "markdown",
   "metadata": {},
   "source": [
    "Set up our random generator and seed"
   ]
  },
  {
   "cell_type": "code",
   "execution_count": 36,
   "metadata": {},
   "outputs": [],
   "source": [
    "rng = np.random.default_rng(seed = 42)"
   ]
  },
  {
   "cell_type": "markdown",
   "metadata": {},
   "source": [
    "We are going to create arrays of 100 vales"
   ]
  },
  {
   "cell_type": "code",
   "execution_count": 37,
   "metadata": {},
   "outputs": [],
   "source": [
    "n_samples = 100"
   ]
  },
  {
   "cell_type": "markdown",
   "metadata": {},
   "source": [
    "The below function saves $x$, and $y$ values to a Pandas DataFrame using np.linspace for the x values, and passing those $x$ values, alongside the varialbes of $a$ and $b$ into the equation $y = mx + c$ for $y$"
   ]
  },
  {
   "cell_type": "code",
   "execution_count": 38,
   "metadata": {},
   "outputs": [],
   "source": [
    "def xy_cords(x_start, x_end, a, b):\n",
    "    ans = np.linspace(x_start,x_end, num=n_samples)\n",
    "    for i in ans:\n",
    "        y= a*ans + (b - rng.normal(2, 4, n_samples))\n",
    "    return pd.DataFrame({'x_axis': ans, 'y_axis': y})"
   ]
  },
  {
   "cell_type": "code",
   "execution_count": 39,
   "metadata": {},
   "outputs": [],
   "source": [
    "xy_a = xy_cords(1, 4, 6, 7)\n",
    "xy_b = xy_cords(4, 8, 3, 1)\n",
    "xy_c = xy_cords(8, 12, 2, -2)\n",
    "xy_d = xy_cords(12, 16, 1, -4)"
   ]
  },
  {
   "cell_type": "markdown",
   "metadata": {},
   "source": [
    "Let's take a look at xy_a and see what our data looks like:"
   ]
  },
  {
   "cell_type": "code",
   "execution_count": 40,
   "metadata": {},
   "outputs": [
    {
     "data": {
      "text/html": [
       "<div>\n",
       "<style scoped>\n",
       "    .dataframe tbody tr th:only-of-type {\n",
       "        vertical-align: middle;\n",
       "    }\n",
       "\n",
       "    .dataframe tbody tr th {\n",
       "        vertical-align: top;\n",
       "    }\n",
       "\n",
       "    .dataframe thead th {\n",
       "        text-align: right;\n",
       "    }\n",
       "</style>\n",
       "<table border=\"1\" class=\"dataframe\">\n",
       "  <thead>\n",
       "    <tr style=\"text-align: right;\">\n",
       "      <th></th>\n",
       "      <th>x_axis</th>\n",
       "      <th>y_axis</th>\n",
       "    </tr>\n",
       "  </thead>\n",
       "  <tbody>\n",
       "    <tr>\n",
       "      <td>0</td>\n",
       "      <td>1.000000</td>\n",
       "      <td>16.297412</td>\n",
       "    </tr>\n",
       "    <tr>\n",
       "      <td>1</td>\n",
       "      <td>1.030303</td>\n",
       "      <td>10.180822</td>\n",
       "    </tr>\n",
       "    <tr>\n",
       "      <td>2</td>\n",
       "      <td>1.060606</td>\n",
       "      <td>7.058936</td>\n",
       "    </tr>\n",
       "    <tr>\n",
       "      <td>3</td>\n",
       "      <td>1.090909</td>\n",
       "      <td>10.101266</td>\n",
       "    </tr>\n",
       "    <tr>\n",
       "      <td>4</td>\n",
       "      <td>1.121212</td>\n",
       "      <td>12.115335</td>\n",
       "    </tr>\n",
       "    <tr>\n",
       "      <td>...</td>\n",
       "      <td>...</td>\n",
       "      <td>...</td>\n",
       "    </tr>\n",
       "    <tr>\n",
       "      <td>95</td>\n",
       "      <td>3.878788</td>\n",
       "      <td>21.792303</td>\n",
       "    </tr>\n",
       "    <tr>\n",
       "      <td>96</td>\n",
       "      <td>3.909091</td>\n",
       "      <td>28.707265</td>\n",
       "    </tr>\n",
       "    <tr>\n",
       "      <td>97</td>\n",
       "      <td>3.939394</td>\n",
       "      <td>28.295369</td>\n",
       "    </tr>\n",
       "    <tr>\n",
       "      <td>98</td>\n",
       "      <td>3.969697</td>\n",
       "      <td>24.319205</td>\n",
       "    </tr>\n",
       "    <tr>\n",
       "      <td>99</td>\n",
       "      <td>4.000000</td>\n",
       "      <td>29.731400</td>\n",
       "    </tr>\n",
       "  </tbody>\n",
       "</table>\n",
       "<p>100 rows × 2 columns</p>\n",
       "</div>"
      ],
      "text/plain": [
       "      x_axis     y_axis\n",
       "0   1.000000  16.297412\n",
       "1   1.030303  10.180822\n",
       "2   1.060606   7.058936\n",
       "3   1.090909  10.101266\n",
       "4   1.121212  12.115335\n",
       "..       ...        ...\n",
       "95  3.878788  21.792303\n",
       "96  3.909091  28.707265\n",
       "97  3.939394  28.295369\n",
       "98  3.969697  24.319205\n",
       "99  4.000000  29.731400\n",
       "\n",
       "[100 rows x 2 columns]"
      ]
     },
     "execution_count": 40,
     "metadata": {},
     "output_type": "execute_result"
    }
   ],
   "source": [
    "xy_a"
   ]
  },
  {
   "cell_type": "markdown",
   "metadata": {},
   "source": [
    "For each xy_ group generate, I'm going to add a group in a new column, this will make visualising the dataset much easier."
   ]
  },
  {
   "cell_type": "code",
   "execution_count": 41,
   "metadata": {},
   "outputs": [],
   "source": [
    "xy_a ['group'] = 'A'\n",
    "xy_b ['group'] = 'B'\n",
    "xy_c ['group'] = 'C'\n",
    "xy_d ['group'] = 'D'"
   ]
  },
  {
   "cell_type": "markdown",
   "metadata": {},
   "source": [
    "Ok, lets take a quick look at the data from xy_a and see if we can make any obsertvations."
   ]
  },
  {
   "cell_type": "code",
   "execution_count": 42,
   "metadata": {},
   "outputs": [],
   "source": [
    "def relplot(data, x,y,color):\n",
    "       return sns.relplot(data= data,x= x, y = y, color = color)"
   ]
  },
  {
   "cell_type": "code",
   "execution_count": 43,
   "metadata": {},
   "outputs": [
    {
     "data": {
      "image/png": "[encoded data removed]",
      "text/plain": [
       "<Figure size 360x360 with 1 Axes>"
      ]
     },
     "metadata": {
      "needs_background": "light"
     },
     "output_type": "display_data"
    }
   ],
   "source": [
    "relplot(xy_b,'x_axis','y_axis', 'r')\n",
    "plt.title('Dastaset xy_a');"
   ]
  },
  {
   "cell_type": "markdown",
   "metadata": {},
   "source": [
    "So from briefly looking at the above graph ,it looks like increasing values of $x$ will produce increasing values of $y$. Let's have a quick look at another group and see if we can spot the same trend."
   ]
  },
  {
   "cell_type": "code",
   "execution_count": 44,
   "metadata": {},
   "outputs": [
    {
     "data": {
      "image/png": "[encoded data removed]",
      "text/plain": [
       "<Figure size 360x360 with 1 Axes>"
      ]
     },
     "metadata": {
      "needs_background": "light"
     },
     "output_type": "display_data"
    }
   ],
   "source": [
    "relplot(xy_b,'x_axis', 'y_axis', 'b')\n",
    "plt.title('Dastaset xy_b');"
   ]
  },
  {
   "cell_type": "markdown",
   "metadata": {},
   "source": [
    "Ok, this looks very simliar to the previous graph. So for our observations thus far we can say as the vlaue of $x$ increases, as does the value of $y$. Let's combine the datasets and see what conclusions we can draw."
   ]
  },
  {
   "cell_type": "code",
   "execution_count": 45,
   "metadata": {},
   "outputs": [],
   "source": [
    "allsets= [xy_a, xy_b, xy_c,xy_d]"
   ]
  },
  {
   "cell_type": "code",
   "execution_count": 46,
   "metadata": {},
   "outputs": [],
   "source": [
    "combined= pd.concat(allsets)"
   ]
  },
  {
   "cell_type": "markdown",
   "metadata": {},
   "source": [
    "We will use a seaborn.lmplot to map out our combined dataset and see if the observation made previuously are upheld. lmplot"
   ]
  },
  {
   "cell_type": "code",
   "execution_count": 47,
   "metadata": {},
   "outputs": [],
   "source": [
    "def implot(data, x, y):\n",
    "    return sns.lmplot(data= data, x = x, y = y, ci = None)"
   ]
  },
  {
   "cell_type": "code",
   "execution_count": 48,
   "metadata": {},
   "outputs": [
    {
     "data": {
      "image/png": "[encoded data removed]",
      "text/plain": [
       "<Figure size 360x360 with 1 Axes>"
      ]
     },
     "metadata": {
      "needs_background": "light"
     },
     "output_type": "display_data"
    }
   ],
   "source": [
    "implot(combined, 'x_axis','y_axis')\n",
    "plt.title('Combined DF');"
   ]
  },
  {
   "cell_type": "markdown",
   "metadata": {},
   "source": [
    "Upon observation of the whole dataset, it's obvious from the regression line that there is a negative correlation between the value of $x$ and the value of $y$.\n",
    "\n",
    "We can take this one step further and graph by the groups we established earlier."
   ]
  },
  {
   "cell_type": "code",
   "execution_count": 49,
   "metadata": {},
   "outputs": [
    {
     "data": {
      "image/png": "[encoded data removed]",
      "text/plain": [
       "<Figure size 403.75x360 with 1 Axes>"
      ]
     },
     "metadata": {
      "needs_background": "light"
     },
     "output_type": "display_data"
    }
   ],
   "source": [
    "sns.lmplot(data= combined, x = 'x_axis', y = 'y_axis', hue = 'group',ci = None)\n",
    "plt.title('Combined DF');"
   ]
  },
  {
   "cell_type": "markdown",
   "metadata": {},
   "source": [
    "When the dataset is graphed by group, the regression line produced from the lmplot function denotes a positive correlation between x and y. Let's take a further look at these regression values using np.polyfit imported above."
   ]
  },
  {
   "cell_type": "code",
   "execution_count": 50,
   "metadata": {},
   "outputs": [],
   "source": [
    "poly_A = np.polyfit(xy_a['x_axis'], xy_a['y_axis'], 1)\n",
    "poly_B = np.polyfit(xy_b['x_axis'], xy_b['y_axis'], 1)\n",
    "poly_C = np.polyfit(xy_c['x_axis'], xy_c['y_axis'], 1)\n",
    "poly_D = np.polyfit(xy_d['x_axis'], xy_d['y_axis'], 1)"
   ]
  },
  {
   "cell_type": "code",
   "execution_count": 51,
   "metadata": {},
   "outputs": [],
   "source": [
    "grp_poly = {'A': poly_A, 'B':poly_B, 'C':poly_C, 'D':poly_D}"
   ]
  },
  {
   "cell_type": "code",
   "execution_count": 52,
   "metadata": {},
   "outputs": [],
   "source": [
    "combined_a_coef, combined_b_coef = np.polyfit(combined['x_axis'], combined['y_axis'], 1)"
   ]
  },
  {
   "cell_type": "code",
   "execution_count": 53,
   "metadata": {},
   "outputs": [
    {
     "name": "stdout",
     "output_type": "stream",
     "text": [
      "Slope of Total: -0.698\n",
      "Slope of Group A: 5.787\n",
      "Slope of Group B: 2.994\n",
      "Slope of Group C: 0.971\n",
      "Slope of Group D: 1.048\n"
     ]
    }
   ],
   "source": [
    "print(\"Slope of Total: {:.3f}\".format(combined_a_coef))\n",
    "for key, val in grp_poly.items():\n",
    "    counter = 0\n",
    "    print (\"Slope of Group {}: {:.3f}\".format(key[counter], val[0]))\n",
    "    counter +=1"
   ]
  },
  {
   "cell_type": "markdown",
   "metadata": {},
   "source": [
    "So according to what we can see, a test for if the Simpson's Paradoxis occuring is if the slope of the combined dataset is of a differnt nature to the subsets within."
   ]
  },
  {
   "cell_type": "code",
   "execution_count": 54,
   "metadata": {},
   "outputs": [
    {
     "data": {
      "image/png": "[encoded data removed]",
      "text/plain": [
       "<Figure size 403.75x360 with 1 Axes>"
      ]
     },
     "metadata": {
      "needs_background": "light"
     },
     "output_type": "display_data"
    }
   ],
   "source": [
    "sns.lmplot(data= combined, x = 'x_axis', y = 'y_axis', hue  = 'group', ci = None)\n",
    "plt.plot(combined['x_axis'],combined_a_coef * combined['x_axis'] + combined_b_coef, '-', color = 'k')\n",
    "plt.title('Combined DF with Linear Reg Line');"
   ]
  },
  {
   "cell_type": "markdown",
   "metadata": {},
   "source": [
    "Let's see if we can replicate fig1 from earlier by plotting each of polyfit coordingates to our grid."
   ]
  },
  {
   "cell_type": "code",
   "execution_count": 55,
   "metadata": {
    "scrolled": false
   },
   "outputs": [
    {
     "data": {
      "image/png": "[encoded data removed]",
      "text/plain": [
       "<Figure size 432x288 with 1 Axes>"
      ]
     },
     "metadata": {
      "needs_background": "light"
     },
     "output_type": "display_data"
    }
   ],
   "source": [
    "plt.plot(combined['x_axis'],combined_a_coef * combined['x_axis'] + combined_b_coef, '-', color = 'k')\n",
    "plt.plot(xy_a['x_axis'], grp_poly['A'][0]*xy_a['x_axis']+ grp_poly['A'][1], '-')\n",
    "plt.plot(xy_b['x_axis'], grp_poly['B'][0]*xy_b['x_axis']+ grp_poly['B'][1], '-')\n",
    "plt.plot(xy_c['x_axis'], grp_poly['C'][0]*xy_c['x_axis']+ grp_poly['C'][1], '-')\n",
    "plt.plot(xy_d['x_axis'], grp_poly['D'][0]*xy_d['x_axis']+ grp_poly['D'][1], '-')\n",
    "plt.xlabel('x_axis')\n",
    "plt.ylabel('y_axis')\n",
    "plt.title('Linear Reg Each Data Group vs Combined');"
   ]
  },
  {
   "cell_type": "code",
   "execution_count": null,
   "metadata": {},
   "outputs": [],
   "source": []
  },
  {
   "cell_type": "markdown",
   "metadata": {},
   "source": [
    "References:\n",
    "1. https://en.wikipedia.org/wiki/Simpson's_paradox\n",
    "2. https://en.wikipedia.org/wiki/Simpson%27s_paradox#UC_Berkeley_gender_bias\n",
    "\n",
    "https://towardsdatascience.com/simpsons-paradox-how-to-prove-two-opposite-arguments-using-one-dataset-1c9c917f5ff9\n",
    "\n",
    "https://commons.wikimedia.org/wiki/File:Simpsons_paradox_-_animation.gif\n",
    "\n",
    "https://commons.wikimedia.org/wiki/File:Simpson%27s_paradox_continuous.svg\n",
    "\n",
    "https://medium.com/analytics-vidhya/simpsons-paradox-when-you-derive-a-wrong-insight-from-your-analysis-ee488b346427"
   ]
  }
 ],
 "metadata": {
  "kernelspec": {
   "display_name": "Python 3",
   "language": "python",
   "name": "python3"
  },
  "language_info": {
   "codemirror_mode": {
    "name": "ipython",
    "version": 3
   },
   "file_extension": ".py",
   "mimetype": "text/x-python",
   "name": "python",
   "nbconvert_exporter": "python",
   "pygments_lexer": "ipython3",
   "version": "3.7.4"
  }
 },
 "nbformat": 4,
 "nbformat_minor": 2
}
