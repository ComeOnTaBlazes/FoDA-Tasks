{
 "cells": [
  {
   "cell_type": "markdown",
   "metadata": {},
   "source": [
    "## Assessment 1 - Counts"
   ]
  },
  {
   "cell_type": "code",
   "execution_count": 1,
   "metadata": {},
   "outputs": [],
   "source": [
    "#Program that uses a function that counts number of occurances in a list and adds to dictionary\n",
    "#input['A', 'A', 'B', 'C', 'A']\n",
    "#result{'A': 3, 'B': 1, 'C': 1} "
   ]
  },
  {
   "cell_type": "code",
   "execution_count": 2,
   "metadata": {},
   "outputs": [],
   "source": [
    "input = ['A', 'A', 'B', 'C', 'A']"
   ]
  },
  {
   "cell_type": "code",
   "execution_count": 3,
   "metadata": {
    "scrolled": true
   },
   "outputs": [
    {
     "data": {
      "text/plain": [
       "['A', 'A', 'B', 'C', 'A']"
      ]
     },
     "execution_count": 3,
     "metadata": {},
     "output_type": "execute_result"
    }
   ],
   "source": [
    "input"
   ]
  },
  {
   "cell_type": "markdown",
   "metadata": {},
   "source": [
    "Test .count()"
   ]
  },
  {
   "cell_type": "code",
   "execution_count": 4,
   "metadata": {},
   "outputs": [
    {
     "data": {
      "text/plain": [
       "3"
      ]
     },
     "execution_count": 4,
     "metadata": {},
     "output_type": "execute_result"
    }
   ],
   "source": [
    "input.count('A')"
   ]
  },
  {
   "cell_type": "code",
   "execution_count": 5,
   "metadata": {},
   "outputs": [
    {
     "data": {
      "text/plain": [
       "1"
      ]
     },
     "execution_count": 5,
     "metadata": {},
     "output_type": "execute_result"
    }
   ],
   "source": [
    "input.count('B')"
   ]
  },
  {
   "cell_type": "markdown",
   "metadata": {},
   "source": [
    "Initially I toyed with the idea of for loops and counters, but I realised to just combine 2 lists of my outputs is much simpler. Counting the characters of the \"keys\" list in the original input. \n",
    "Trying to replicate the desired result without furmula."
   ]
  },
  {
   "cell_type": "code",
   "execution_count": 6,
   "metadata": {},
   "outputs": [],
   "source": [
    "keys1 = []\n",
    "countval1 = []"
   ]
  },
  {
   "cell_type": "code",
   "execution_count": 7,
   "metadata": {},
   "outputs": [
    {
     "data": {
      "text/plain": [
       "['A', 'B', 'C']"
      ]
     },
     "execution_count": 7,
     "metadata": {},
     "output_type": "execute_result"
    }
   ],
   "source": [
    "for val in input:\n",
    "    if val not in keys1:\n",
    "         keys1.append(val)\n",
    "keys1"
   ]
  },
  {
   "cell_type": "code",
   "execution_count": 8,
   "metadata": {},
   "outputs": [
    {
     "data": {
      "text/plain": [
       "[3, 1, 1]"
      ]
     },
     "execution_count": 8,
     "metadata": {},
     "output_type": "execute_result"
    }
   ],
   "source": [
    "for n in keys1:\n",
    "    ans = input.count(n)\n",
    "    countval1.append(ans)\n",
    "countval1"
   ]
  },
  {
   "cell_type": "markdown",
   "metadata": {},
   "source": [
    "I got the below zip method from the below page: method 3.\n",
    "\n",
    "https://www.geeksforgeeks.org/python-convert-two-lists-into-a-dictionary/"
   ]
  },
  {
   "cell_type": "code",
   "execution_count": 9,
   "metadata": {},
   "outputs": [],
   "source": [
    "dictout1 = dict(zip(keys1, countval1))"
   ]
  },
  {
   "cell_type": "code",
   "execution_count": 10,
   "metadata": {},
   "outputs": [
    {
     "data": {
      "text/plain": [
       "{'A': 3, 'B': 1, 'C': 1}"
      ]
     },
     "execution_count": 10,
     "metadata": {},
     "output_type": "execute_result"
    }
   ],
   "source": [
    "dictout1"
   ]
  },
  {
   "cell_type": "markdown",
   "metadata": {},
   "source": [
    "Ok, the desired output has been achieved, this should be pretty simple to put into a function now"
   ]
  },
  {
   "cell_type": "code",
   "execution_count": 11,
   "metadata": {},
   "outputs": [],
   "source": [
    "def counts(x):\n",
    "    keys = []\n",
    "    countval = []\n",
    "    for val in x:\n",
    "        if val not in keys:\n",
    "            keys.append(val)\n",
    "    for n in keys:\n",
    "        ans = x.count(n)\n",
    "        countval.append(ans)\n",
    "    dictout = dict(zip(keys, countval))\n",
    "    return dictout"
   ]
  },
  {
   "cell_type": "code",
   "execution_count": 12,
   "metadata": {},
   "outputs": [
    {
     "data": {
      "text/plain": [
       "{'A': 3, 'B': 1, 'C': 1}"
      ]
     },
     "execution_count": 12,
     "metadata": {},
     "output_type": "execute_result"
    }
   ],
   "source": [
    "counts(input)"
   ]
  },
  {
   "cell_type": "code",
   "execution_count": 13,
   "metadata": {},
   "outputs": [
    {
     "data": {
      "text/plain": [
       "{'A': 3, 'B': 1, 'C': 1}"
      ]
     },
     "execution_count": 13,
     "metadata": {},
     "output_type": "execute_result"
    }
   ],
   "source": [
    "counts(['A', 'A', 'B', 'C', 'A'])    "
   ]
  },
  {
   "cell_type": "markdown",
   "metadata": {},
   "source": [
    "## Assessment 2 - dicerolls"
   ]
  },
  {
   "cell_type": "markdown",
   "metadata": {},
   "source": [
    "Python function that rolls $k$ number of dice, $n$ times.\n",
    "Results of the $n$ rolls should be kept in a dictionary with keys,vals == the frequency of each possible outcome i.e 1-12.\n",
    "\n",
    "Initially I was messsing aroun with "
   ]
  },
  {
   "cell_type": "code",
   "execution_count": 14,
   "metadata": {},
   "outputs": [],
   "source": [
    "import numpy as np\n",
    "import pandas as pd"
   ]
  },
  {
   "cell_type": "markdown",
   "metadata": {},
   "source": [
    "Simulate 1 dice roll"
   ]
  },
  {
   "cell_type": "code",
   "execution_count": 15,
   "metadata": {},
   "outputs": [],
   "source": [
    "rng = np.random.default_rng()"
   ]
  },
  {
   "cell_type": "markdown",
   "metadata": {},
   "source": [
    "Simulate 2 dice rolls"
   ]
  },
  {
   "cell_type": "code",
   "execution_count": 16,
   "metadata": {},
   "outputs": [],
   "source": [
    "diceroll = rng.integers(1,7, size =[1000,2])"
   ]
  },
  {
   "cell_type": "markdown",
   "metadata": {},
   "source": [
    "Check the returned array is the right shape"
   ]
  },
  {
   "cell_type": "code",
   "execution_count": 17,
   "metadata": {},
   "outputs": [
    {
     "data": {
      "text/plain": [
       "(1000, 2)"
      ]
     },
     "execution_count": 17,
     "metadata": {},
     "output_type": "execute_result"
    }
   ],
   "source": [
    "diceroll.shape"
   ]
  },
  {
   "cell_type": "markdown",
   "metadata": {},
   "source": [
    "Create a pandas dataframe from the array, labelling the columns"
   ]
  },
  {
   "cell_type": "code",
   "execution_count": 18,
   "metadata": {},
   "outputs": [],
   "source": [
    "df = pd.DataFrame(diceroll, columns=[\"roll1\", \"roll2\"])"
   ]
  },
  {
   "cell_type": "markdown",
   "metadata": {},
   "source": [
    "Sum the columns to a new column\n",
    "\n",
    "Summing columns:\n",
    "https://stackoverflow.com/questions/34023918/make-new-column-in-panda-dataframe-by-adding-values-from-other-columns/34023971"
   ]
  },
  {
   "cell_type": "code",
   "execution_count": 19,
   "metadata": {},
   "outputs": [],
   "source": [
    "df['sum'] = df.sum(axis=1)"
   ]
  },
  {
   "cell_type": "markdown",
   "metadata": {},
   "source": [
    "Create a dict of value counts in a dictionary\n",
    "\n",
    "https://stackoverflow.com/questions/36004976/count-frequency-of-values-in-pandas-dataframe-column"
   ]
  },
  {
   "cell_type": "code",
   "execution_count": 20,
   "metadata": {},
   "outputs": [],
   "source": [
    "resultcount = df['sum'].value_counts().to_dict()"
   ]
  },
  {
   "cell_type": "code",
   "execution_count": 21,
   "metadata": {},
   "outputs": [
    {
     "data": {
      "text/plain": [
       "{7: 156,\n",
       " 6: 137,\n",
       " 8: 131,\n",
       " 9: 119,\n",
       " 5: 109,\n",
       " 4: 88,\n",
       " 10: 80,\n",
       " 11: 64,\n",
       " 3: 56,\n",
       " 12: 35,\n",
       " 2: 25}"
      ]
     },
     "execution_count": 21,
     "metadata": {},
     "output_type": "execute_result"
    }
   ],
   "source": [
    "resultcount"
   ]
  },
  {
   "cell_type": "markdown",
   "metadata": {},
   "source": [
    "Create the function with the arguments $k$ and $n$ and test"
   ]
  },
  {
   "cell_type": "code",
   "execution_count": 22,
   "metadata": {},
   "outputs": [],
   "source": [
    "def diceroll(k, n):\n",
    "    dicerl = rng.integers(1,7, size =[n,k])\n",
    "    df = pd.DataFrame(dicerl, columns=[\"roll1\", \"roll2\"])\n",
    "    df['sum'] = df.sum(axis=1)\n",
    "    rescnt = df['sum'].value_counts().to_dict()\n",
    "    return rescnt"
   ]
  },
  {
   "cell_type": "code",
   "execution_count": 23,
   "metadata": {},
   "outputs": [
    {
     "data": {
      "text/plain": [
       "{7: 175,\n",
       " 6: 147,\n",
       " 8: 133,\n",
       " 9: 116,\n",
       " 5: 102,\n",
       " 4: 92,\n",
       " 10: 84,\n",
       " 3: 53,\n",
       " 11: 50,\n",
       " 2: 26,\n",
       " 12: 22}"
      ]
     },
     "execution_count": 23,
     "metadata": {},
     "output_type": "execute_result"
    }
   ],
   "source": [
    "diceroll(2,1000)"
   ]
  },
  {
   "cell_type": "code",
   "execution_count": null,
   "metadata": {},
   "outputs": [],
   "source": []
  },
  {
   "cell_type": "code",
   "execution_count": null,
   "metadata": {},
   "outputs": [],
   "source": []
  },
  {
   "cell_type": "markdown",
   "metadata": {},
   "source": [
    "### Task 3\n",
    "\n",
    "Simulating a coin-flip with numpy.random.binomial to 100  and then 1,000 times and plot the results, showing the bell curve."
   ]
  },
  {
   "cell_type": "code",
   "execution_count": 68,
   "metadata": {},
   "outputs": [],
   "source": [
    "import matplotlib.pyplot as plt\n",
    "import seaborn as sns\n",
    "sns.set()"
   ]
  },
  {
   "cell_type": "code",
   "execution_count": 33,
   "metadata": {
    "scrolled": false
   },
   "outputs": [
    {
     "data": {
      "text/plain": [
       "array([52, 50, 42, 39, 49, 56, 46, 60, 54, 46, 50, 44, 58, 43, 43, 53, 48,\n",
       "       55, 58, 53, 45, 42, 38, 47, 53, 52, 46, 53, 44, 53, 53, 52, 58, 53,\n",
       "       47, 48, 46, 58, 51, 48, 58, 58, 48, 36, 44, 46, 51, 45, 48, 43, 55,\n",
       "       51, 51, 50, 57, 44, 46, 55, 54, 53, 50, 49, 51, 54, 47, 44, 48, 51,\n",
       "       53, 47, 51, 47, 53, 50, 45, 55, 58, 52, 55, 44, 49, 53, 38, 56, 47,\n",
       "       53, 50, 51, 49, 61, 55, 52, 46, 57, 49, 55, 47, 54, 55, 46, 65, 49,\n",
       "       43, 52, 51, 49, 49, 49, 46, 53, 39, 52, 50, 47, 49, 48, 44, 51, 51,\n",
       "       50, 49, 41, 55, 49, 42, 49, 51, 44, 42, 39, 53, 47, 52, 49, 54, 46,\n",
       "       52, 45, 51, 45, 56, 49, 45, 49, 45, 56, 57, 51, 48, 51, 52, 45, 44,\n",
       "       51, 51, 48, 53, 42, 45, 56, 54, 54, 45, 46, 55, 48, 49, 44, 54, 42,\n",
       "       44, 49, 52, 49, 51, 54, 51, 45, 55, 46, 47, 49, 45, 54, 52, 48, 44,\n",
       "       61, 56, 49, 46, 49, 53, 51, 50, 53, 54, 43, 49, 47, 55, 48, 46, 54,\n",
       "       51, 49, 44, 51, 52, 44, 47, 49, 43, 47, 63, 46, 52, 50, 49, 51, 48,\n",
       "       56, 56, 53, 46, 50, 46, 46, 46, 56, 54, 54, 49, 42, 45, 51, 54, 54,\n",
       "       48, 45, 52, 50, 50, 44, 51, 51, 55, 57, 48, 50, 49, 54, 50, 52, 43,\n",
       "       48, 55, 52, 49, 58, 49, 45, 47, 39, 42, 55, 54, 39, 51, 42, 52, 54,\n",
       "       58, 50, 47, 45, 45, 47, 41, 42, 55, 45, 60, 52, 40, 57, 47, 42, 52,\n",
       "       38, 56, 53, 51, 47, 49, 49, 40, 45, 49, 48, 59, 49, 50, 53, 48, 45,\n",
       "       51, 56, 53, 56, 47, 56, 41, 45, 46, 49, 48, 49, 47, 46, 54, 49, 56,\n",
       "       58, 49, 62, 54, 56, 58, 51, 50, 40, 44, 42, 46, 55, 44, 53, 50, 46,\n",
       "       50, 48, 52, 43, 56, 56, 49, 52, 53, 62, 58, 47, 53, 44, 51, 51, 57,\n",
       "       38, 48, 47, 52, 49, 49, 57, 52, 58, 45, 52, 52, 58, 47, 51, 49, 55,\n",
       "       43, 51, 54, 60, 44, 54, 41, 42, 51, 56, 47, 49, 57, 53, 58, 49, 41,\n",
       "       43, 57, 43, 59, 49, 56, 48, 55, 57, 57, 44, 41, 42, 53, 40, 47, 55,\n",
       "       55, 42, 57, 51, 62, 50, 53, 49, 43, 52, 50, 39, 49, 42, 46, 55, 51,\n",
       "       53, 41, 62, 58, 46, 54, 53, 46, 55, 56, 57, 47, 44, 44, 60, 49, 51,\n",
       "       51, 50, 50, 54, 49, 53, 46, 47, 51, 47, 50, 59, 55, 49, 43, 57, 52,\n",
       "       43, 54, 46, 55, 52, 50, 52, 54, 52, 45, 53, 50, 46, 47, 53, 52, 51,\n",
       "       50, 48, 54, 63, 53, 55, 51, 39, 48, 47, 57, 47, 54, 51, 46, 53, 51,\n",
       "       49, 51, 49, 54, 55, 48, 49, 42, 46, 43, 57, 42, 42, 50, 47, 45, 46,\n",
       "       49, 53, 55, 49, 48, 51, 52, 56, 51, 47, 44, 47, 48, 52, 50, 56, 43,\n",
       "       52, 45, 43, 47, 54, 55, 48, 56, 50, 54, 50, 58, 52, 53, 58, 50, 44,\n",
       "       43, 41, 53, 47, 58, 56, 42, 41, 46, 48, 48, 51, 50, 48, 53, 54, 52,\n",
       "       45, 46, 46, 56, 54, 57, 52, 43, 50, 49, 49, 44, 49, 52, 56, 56, 56,\n",
       "       51, 53, 56, 53, 46, 40, 57, 54, 44, 55, 46, 52, 51, 56, 51, 57, 55,\n",
       "       55, 53, 45, 48, 53, 54, 63, 48, 46, 50, 34, 46, 42, 45, 56, 46, 56,\n",
       "       57, 52, 55, 50, 51, 46, 49, 45, 56, 54, 43, 53, 52, 44, 41, 58, 50,\n",
       "       51, 55, 55, 53, 48, 50, 60, 57, 54, 50, 56, 53, 44, 46, 61, 48, 46,\n",
       "       50, 55, 59, 48, 41, 42, 39, 52, 52, 52, 57, 49, 50, 42, 58, 55, 53,\n",
       "       59, 47, 56, 58, 56, 56, 48, 48, 51, 56, 47, 49, 49, 52, 51, 48, 51,\n",
       "       45, 52, 58, 50, 50, 49, 50, 54, 46, 51, 52, 53, 49, 53, 53, 49, 49,\n",
       "       49, 49, 53, 43, 50, 55, 48, 43, 50, 49, 55, 57, 49, 33, 47, 51, 48,\n",
       "       46, 49, 40, 52, 50, 57, 50, 50, 45, 51, 50, 42, 48, 51, 52, 51, 44,\n",
       "       51, 55, 47, 44, 57, 52, 55, 43, 44, 59, 48, 50, 55, 52, 44, 43, 48,\n",
       "       52, 47, 56, 39, 46, 55, 53, 60, 49, 44, 48, 47, 51, 50, 52, 51, 38,\n",
       "       44, 45, 49, 51, 55, 50, 48, 56, 57, 43, 53, 47, 42, 40, 54, 46, 51,\n",
       "       54, 54, 45, 49, 58, 49, 57, 53, 49, 44, 48, 52, 47, 48, 44, 55, 49,\n",
       "       45, 54, 52, 53, 47, 46, 49, 48, 46, 51, 44, 53, 57, 53, 44, 49, 50,\n",
       "       44, 48, 44, 50, 50, 53, 53, 48, 54, 41, 41, 56, 46, 46, 46, 48, 39,\n",
       "       55, 45, 53, 55, 52, 49, 56, 50, 53, 43, 46, 48, 49, 39, 54, 46, 60,\n",
       "       48, 50, 46, 49, 57, 59, 59, 63, 53, 44, 51, 55, 52, 44, 49, 51, 53,\n",
       "       46, 58, 40, 49, 50, 58, 62, 46, 45, 39, 54, 47, 48, 57, 54, 51, 48,\n",
       "       49, 47, 49, 44, 46, 44, 43, 54, 44, 41, 47, 54, 52, 49, 56, 55, 42,\n",
       "       38, 53, 49, 53, 55, 50, 50, 46, 56, 57, 50, 47, 51, 44, 59, 42, 58,\n",
       "       55, 60, 48, 51, 44, 40, 55, 50, 44, 54, 43, 50, 47, 51, 59, 53, 54,\n",
       "       63, 51, 45, 50, 48, 53, 55, 49, 48, 57, 44, 47, 53, 50, 45, 54, 54,\n",
       "       50, 53, 52, 53, 48, 55, 46, 49, 51, 52, 52, 55, 58, 40, 44, 40, 57,\n",
       "       41, 40, 48, 47, 44, 44, 63, 42, 54, 50, 54, 43, 44, 46, 57, 51, 55,\n",
       "       48, 57, 61, 54, 53, 56, 43, 51, 48, 44, 50, 49, 52, 43],\n",
       "      dtype=int64)"
      ]
     },
     "execution_count": 33,
     "metadata": {},
     "output_type": "execute_result"
    }
   ],
   "source": [
    "coinres = rng.binomial(100,.50, size = 1000)\n",
    "coinres"
   ]
  },
  {
   "cell_type": "code",
   "execution_count": 52,
   "metadata": {},
   "outputs": [],
   "source": [
    "num, occs = np.unique(coinres, return_counts=  True)"
   ]
  },
  {
   "cell_type": "code",
   "execution_count": 54,
   "metadata": {},
   "outputs": [
    {
     "data": {
      "text/plain": [
       "array([ 1,  1,  1,  6, 12, 12, 15, 28, 31, 54, 38, 61, 52, 63, 91, 70, 77,\n",
       "       63, 70, 56, 56, 45, 35, 28, 10,  8,  4,  5,  6,  1], dtype=int64)"
      ]
     },
     "execution_count": 54,
     "metadata": {},
     "output_type": "execute_result"
    }
   ],
   "source": [
    "occs"
   ]
  },
  {
   "cell_type": "markdown",
   "metadata": {},
   "source": [
    "https://numpy.org/doc/stable/reference/generated/numpy.unique.html"
   ]
  },
  {
   "cell_type": "code",
   "execution_count": 87,
   "metadata": {},
   "outputs": [
    {
     "name": "stdout",
     "output_type": "stream",
     "text": [
      "[33 34 36 38 39 40 41 42 43 44 45 46 47 48 49 50 51 52 53 54 55 56 57 58\n",
      " 59 60 61 62 63 65]\n",
      "[ 1  1  1  6 12 12 15 28 31 54 38 61 52 63 91 70 77 63 70 56 56 45 35 28\n",
      " 10  8  4  5  6  1]\n"
     ]
    }
   ],
   "source": [
    "num, occs = np.unique(coinres, return_counts=  True)\n",
    "print(num)\n",
    "print(occs)"
   ]
  },
  {
   "cell_type": "code",
   "execution_count": 100,
   "metadata": {},
   "outputs": [
    {
     "data": {
      "image/png": "[encoded data removed]",
      "text/plain": [
       "<Figure size 360x360 with 1 Axes>"
      ]
     },
     "metadata": {},
     "output_type": "display_data"
    }
   ],
   "source": [
    "ax = sns.displot(coinres, kde = True,bins = range(33, 65), color = 'b')"
   ]
  },
  {
   "cell_type": "code",
   "execution_count": 95,
   "metadata": {},
   "outputs": [
    {
     "ename": "AttributeError",
     "evalue": "module 'seaborn' has no attribute 'hisplot'",
     "output_type": "error",
     "traceback": [
      "\u001b[1;31m---------------------------------------------------------------------------\u001b[0m",
      "\u001b[1;31mAttributeError\u001b[0m                            Traceback (most recent call last)",
      "\u001b[1;32m<ipython-input-95-d21f82e95096>\u001b[0m in \u001b[0;36m<module>\u001b[1;34m\u001b[0m\n\u001b[1;32m----> 1\u001b[1;33m \u001b[0max\u001b[0m \u001b[1;33m=\u001b[0m \u001b[0msns\u001b[0m\u001b[1;33m.\u001b[0m\u001b[0mhisplot\u001b[0m\u001b[1;33m(\u001b[0m\u001b[0mcoinres\u001b[0m\u001b[1;33m,\u001b[0m \u001b[0mkde\u001b[0m \u001b[1;33m=\u001b[0m \u001b[1;32mTrue\u001b[0m\u001b[1;33m,\u001b[0m\u001b[0mbins\u001b[0m \u001b[1;33m=\u001b[0m \u001b[0mnum\u001b[0m\u001b[1;33m,\u001b[0m \u001b[0mcolor\u001b[0m \u001b[1;33m=\u001b[0m \u001b[1;34m'b'\u001b[0m\u001b[1;33m)\u001b[0m\u001b[1;33m\u001b[0m\u001b[1;33m\u001b[0m\u001b[0m\n\u001b[0m",
      "\u001b[1;31mAttributeError\u001b[0m: module 'seaborn' has no attribute 'hisplot'"
     ]
    }
   ],
   "source": [
    "ax = sns.hisplot(coinres, kde = True,bins = num, color = 'b')"
   ]
  },
  {
   "cell_type": "code",
   "execution_count": 42,
   "metadata": {},
   "outputs": [],
   "source": [
    "x = np.unique(coinres, return_counts=True)"
   ]
  },
  {
   "cell_type": "code",
   "execution_count": 43,
   "metadata": {},
   "outputs": [
    {
     "data": {
      "text/plain": [
       "(array([33, 34, 36, 38, 39, 40, 41, 42, 43, 44, 45, 46, 47, 48, 49, 50, 51,\n",
       "        52, 53, 54, 55, 56, 57, 58, 59, 60, 61, 62, 63, 65], dtype=int64),\n",
       " array([ 1,  1,  1,  6, 12, 12, 15, 28, 31, 54, 38, 61, 52, 63, 91, 70, 77,\n",
       "        63, 70, 56, 56, 45, 35, 28, 10,  8,  4,  5,  6,  1], dtype=int64))"
      ]
     },
     "execution_count": 43,
     "metadata": {},
     "output_type": "execute_result"
    }
   ],
   "source": [
    "x"
   ]
  },
  {
   "cell_type": "code",
   "execution_count": 41,
   "metadata": {},
   "outputs": [
    {
     "data": {
      "text/plain": [
       "array([ 1,  1,  1,  6, 12, 12, 15, 28, 31, 54, 38, 61, 52, 63, 91, 70, 77,\n",
       "       63, 70, 56, 56, 45, 35, 28, 10,  8,  4,  5,  6,  1], dtype=int64)"
      ]
     },
     "execution_count": 41,
     "metadata": {},
     "output_type": "execute_result"
    }
   ],
   "source": [
    "counts"
   ]
  },
  {
   "cell_type": "code",
   "execution_count": null,
   "metadata": {},
   "outputs": [],
   "source": []
  },
  {
   "cell_type": "code",
   "execution_count": null,
   "metadata": {},
   "outputs": [],
   "source": []
  },
  {
   "cell_type": "markdown",
   "metadata": {},
   "source": [
    "### Task 4"
   ]
  },
  {
   "cell_type": "code",
   "execution_count": null,
   "metadata": {},
   "outputs": [],
   "source": []
  }
 ],
 "metadata": {
  "kernelspec": {
   "display_name": "Python 3",
   "language": "python",
   "name": "python3"
  },
  "language_info": {
   "codemirror_mode": {
    "name": "ipython",
    "version": 3
   },
   "file_extension": ".py",
   "mimetype": "text/x-python",
   "name": "python",
   "nbconvert_exporter": "python",
   "pygments_lexer": "ipython3",
   "version": "3.7.4"
  }
 },
 "nbformat": 4,
 "nbformat_minor": 2
}
